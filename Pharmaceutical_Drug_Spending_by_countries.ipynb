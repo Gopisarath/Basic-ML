{
  "nbformat": 4,
  "nbformat_minor": 0,
  "metadata": {
    "colab": {
      "name": "Pharmaceutical Drug Spending by countries.ipynb",
      "provenance": [],
      "collapsed_sections": [],
      "authorship_tag": "ABX9TyOUXuojagnbTP2YIHUEczjy",
      "include_colab_link": true
    },
    "kernelspec": {
      "name": "python3",
      "display_name": "Python 3"
    },
    "language_info": {
      "name": "python"
    }
  },
  "cells": [
    {
      "cell_type": "markdown",
      "metadata": {
        "id": "view-in-github",
        "colab_type": "text"
      },
      "source": [
        "<a href=\"https://colab.research.google.com/github/Gopisarath/Basic-ML/blob/main/Pharmaceutical_Drug_Spending_by_countries.ipynb\" target=\"_parent\"><img src=\"https://colab.research.google.com/assets/colab-badge.svg\" alt=\"Open In Colab\"/></a>"
      ]
    },
    {
      "cell_type": "code",
      "metadata": {
        "id": "6pytxTvCQR6U"
      },
      "source": [
        ""
      ],
      "execution_count": null,
      "outputs": []
    },
    {
      "cell_type": "markdown",
      "metadata": {
        "id": "PlKNvndlQq4i"
      },
      "source": [
        "\n",
        "**EDA** **ON** **Pharmaceutical** **Drug** **Spending** **by** **countries** \n",
        "\n",
        "**Dataset**\n",
        "\n",
        "**Introduction**\n",
        "\n",
        "In this notebook, I have done the Exploratory Data Analysis of the student performance in exams dataset and tried to gain useful insights from the data. The features present in the dataset are:\n",
        "\n",
        "Frequency\n",
        "\n",
        "Time\n",
        "\n",
        "Value"
      ]
    },
    {
      "cell_type": "markdown",
      "metadata": {
        "id": "ItzRUMQcUay4"
      },
      "source": [
        "**Importing** **Libraries**"
      ]
    },
    {
      "cell_type": "code",
      "metadata": {
        "id": "M45pM2yDUd7x"
      },
      "source": [
        "import pandas as pd\n",
        "import numpy as np\n",
        "import matplotlib\n",
        "import matplotlib.pyplot as plt\n",
        "import seaborn as sns\n",
        "\n",
        "%matplotlib inline"
      ],
      "execution_count": 1,
      "outputs": []
    },
    {
      "cell_type": "markdown",
      "metadata": {
        "id": "2RyJ779ZUonL"
      },
      "source": [
        "\n",
        "**Preliminary** **Data** **Processing**\n",
        "\n",
        "To start off, we read in our dataset and generate a simple preview and statistics of our data."
      ]
    },
    {
      "cell_type": "markdown",
      "metadata": {
        "id": "ffCw3mpdUwXS"
      },
      "source": [
        "**Loading** **data**"
      ]
    },
    {
      "cell_type": "code",
      "metadata": {
        "colab": {
          "base_uri": "https://localhost:8080/",
          "height": 419
        },
        "id": "e_1eedqsUxK9",
        "outputId": "be04e328-5e0f-41f3-e3ff-6ddb03cf45a0"
      },
      "source": [
        "df=pd.read_csv(\"Pharmaceutical Drug Spending by countries.csv\")\n",
        "df"
      ],
      "execution_count": 3,
      "outputs": [
        {
          "output_type": "execute_result",
          "data": {
            "text/html": [
              "<div>\n",
              "<style scoped>\n",
              "    .dataframe tbody tr th:only-of-type {\n",
              "        vertical-align: middle;\n",
              "    }\n",
              "\n",
              "    .dataframe tbody tr th {\n",
              "        vertical-align: top;\n",
              "    }\n",
              "\n",
              "    .dataframe thead th {\n",
              "        text-align: right;\n",
              "    }\n",
              "</style>\n",
              "<table border=\"1\" class=\"dataframe\">\n",
              "  <thead>\n",
              "    <tr style=\"text-align: right;\">\n",
              "      <th></th>\n",
              "      <th>LOCATION</th>\n",
              "      <th>INDICATOR</th>\n",
              "      <th>SUBJECT</th>\n",
              "      <th>MEASURE</th>\n",
              "      <th>FREQUENCY</th>\n",
              "      <th>TIME</th>\n",
              "      <th>Value</th>\n",
              "      <th>Flag Codes</th>\n",
              "    </tr>\n",
              "  </thead>\n",
              "  <tbody>\n",
              "    <tr>\n",
              "      <th>0</th>\n",
              "      <td>AUS</td>\n",
              "      <td>PHARMAEXP</td>\n",
              "      <td>TOT</td>\n",
              "      <td>PC_HEALTHXP</td>\n",
              "      <td>A</td>\n",
              "      <td>1971</td>\n",
              "      <td>15.992</td>\n",
              "      <td>NaN</td>\n",
              "    </tr>\n",
              "    <tr>\n",
              "      <th>1</th>\n",
              "      <td>AUS</td>\n",
              "      <td>PHARMAEXP</td>\n",
              "      <td>TOT</td>\n",
              "      <td>PC_HEALTHXP</td>\n",
              "      <td>A</td>\n",
              "      <td>1972</td>\n",
              "      <td>15.091</td>\n",
              "      <td>NaN</td>\n",
              "    </tr>\n",
              "    <tr>\n",
              "      <th>2</th>\n",
              "      <td>AUS</td>\n",
              "      <td>PHARMAEXP</td>\n",
              "      <td>TOT</td>\n",
              "      <td>PC_HEALTHXP</td>\n",
              "      <td>A</td>\n",
              "      <td>1973</td>\n",
              "      <td>15.117</td>\n",
              "      <td>NaN</td>\n",
              "    </tr>\n",
              "    <tr>\n",
              "      <th>3</th>\n",
              "      <td>AUS</td>\n",
              "      <td>PHARMAEXP</td>\n",
              "      <td>TOT</td>\n",
              "      <td>PC_HEALTHXP</td>\n",
              "      <td>A</td>\n",
              "      <td>1974</td>\n",
              "      <td>14.771</td>\n",
              "      <td>NaN</td>\n",
              "    </tr>\n",
              "    <tr>\n",
              "      <th>4</th>\n",
              "      <td>AUS</td>\n",
              "      <td>PHARMAEXP</td>\n",
              "      <td>TOT</td>\n",
              "      <td>PC_HEALTHXP</td>\n",
              "      <td>A</td>\n",
              "      <td>1975</td>\n",
              "      <td>11.849</td>\n",
              "      <td>NaN</td>\n",
              "    </tr>\n",
              "    <tr>\n",
              "      <th>...</th>\n",
              "      <td>...</td>\n",
              "      <td>...</td>\n",
              "      <td>...</td>\n",
              "      <td>...</td>\n",
              "      <td>...</td>\n",
              "      <td>...</td>\n",
              "      <td>...</td>\n",
              "      <td>...</td>\n",
              "    </tr>\n",
              "    <tr>\n",
              "      <th>3791</th>\n",
              "      <td>COL</td>\n",
              "      <td>PHARMAEXP</td>\n",
              "      <td>TOT</td>\n",
              "      <td>USD_CAP</td>\n",
              "      <td>A</td>\n",
              "      <td>2013</td>\n",
              "      <td>144.302</td>\n",
              "      <td>NaN</td>\n",
              "    </tr>\n",
              "    <tr>\n",
              "      <th>3792</th>\n",
              "      <td>COL</td>\n",
              "      <td>PHARMAEXP</td>\n",
              "      <td>TOT</td>\n",
              "      <td>USD_CAP</td>\n",
              "      <td>A</td>\n",
              "      <td>2014</td>\n",
              "      <td>154.548</td>\n",
              "      <td>NaN</td>\n",
              "    </tr>\n",
              "    <tr>\n",
              "      <th>3793</th>\n",
              "      <td>COL</td>\n",
              "      <td>PHARMAEXP</td>\n",
              "      <td>TOT</td>\n",
              "      <td>USD_CAP</td>\n",
              "      <td>A</td>\n",
              "      <td>2015</td>\n",
              "      <td>159.429</td>\n",
              "      <td>NaN</td>\n",
              "    </tr>\n",
              "    <tr>\n",
              "      <th>3794</th>\n",
              "      <td>COL</td>\n",
              "      <td>PHARMAEXP</td>\n",
              "      <td>TOT</td>\n",
              "      <td>USD_CAP</td>\n",
              "      <td>A</td>\n",
              "      <td>2016</td>\n",
              "      <td>171.109</td>\n",
              "      <td>NaN</td>\n",
              "    </tr>\n",
              "    <tr>\n",
              "      <th>3795</th>\n",
              "      <td>COL</td>\n",
              "      <td>PHARMAEXP</td>\n",
              "      <td>TOT</td>\n",
              "      <td>USD_CAP</td>\n",
              "      <td>A</td>\n",
              "      <td>2017</td>\n",
              "      <td>177.532</td>\n",
              "      <td>NaN</td>\n",
              "    </tr>\n",
              "  </tbody>\n",
              "</table>\n",
              "<p>3796 rows × 8 columns</p>\n",
              "</div>"
            ],
            "text/plain": [
              "     LOCATION  INDICATOR SUBJECT  ...  TIME    Value  Flag Codes\n",
              "0         AUS  PHARMAEXP     TOT  ...  1971   15.992         NaN\n",
              "1         AUS  PHARMAEXP     TOT  ...  1972   15.091         NaN\n",
              "2         AUS  PHARMAEXP     TOT  ...  1973   15.117         NaN\n",
              "3         AUS  PHARMAEXP     TOT  ...  1974   14.771         NaN\n",
              "4         AUS  PHARMAEXP     TOT  ...  1975   11.849         NaN\n",
              "...       ...        ...     ...  ...   ...      ...         ...\n",
              "3791      COL  PHARMAEXP     TOT  ...  2013  144.302         NaN\n",
              "3792      COL  PHARMAEXP     TOT  ...  2014  154.548         NaN\n",
              "3793      COL  PHARMAEXP     TOT  ...  2015  159.429         NaN\n",
              "3794      COL  PHARMAEXP     TOT  ...  2016  171.109         NaN\n",
              "3795      COL  PHARMAEXP     TOT  ...  2017  177.532         NaN\n",
              "\n",
              "[3796 rows x 8 columns]"
            ]
          },
          "metadata": {},
          "execution_count": 3
        }
      ]
    },
    {
      "cell_type": "markdown",
      "metadata": {
        "id": "AMz2twJIVMU8"
      },
      "source": [
        "The output shows that we have around 3796 entries with 8 columns in our dataset."
      ]
    },
    {
      "cell_type": "markdown",
      "metadata": {
        "id": "8206MoSiVc0R"
      },
      "source": [
        "**Understanding** **the** **Data**"
      ]
    },
    {
      "cell_type": "code",
      "metadata": {
        "colab": {
          "base_uri": "https://localhost:8080/",
          "height": 204
        },
        "id": "Guwe_wu-RIkH",
        "outputId": "ccdaa603-ae03-426c-96ce-7fdefff399ec"
      },
      "source": [
        "df.head()"
      ],
      "execution_count": 4,
      "outputs": [
        {
          "output_type": "execute_result",
          "data": {
            "text/html": [
              "<div>\n",
              "<style scoped>\n",
              "    .dataframe tbody tr th:only-of-type {\n",
              "        vertical-align: middle;\n",
              "    }\n",
              "\n",
              "    .dataframe tbody tr th {\n",
              "        vertical-align: top;\n",
              "    }\n",
              "\n",
              "    .dataframe thead th {\n",
              "        text-align: right;\n",
              "    }\n",
              "</style>\n",
              "<table border=\"1\" class=\"dataframe\">\n",
              "  <thead>\n",
              "    <tr style=\"text-align: right;\">\n",
              "      <th></th>\n",
              "      <th>LOCATION</th>\n",
              "      <th>INDICATOR</th>\n",
              "      <th>SUBJECT</th>\n",
              "      <th>MEASURE</th>\n",
              "      <th>FREQUENCY</th>\n",
              "      <th>TIME</th>\n",
              "      <th>Value</th>\n",
              "      <th>Flag Codes</th>\n",
              "    </tr>\n",
              "  </thead>\n",
              "  <tbody>\n",
              "    <tr>\n",
              "      <th>0</th>\n",
              "      <td>AUS</td>\n",
              "      <td>PHARMAEXP</td>\n",
              "      <td>TOT</td>\n",
              "      <td>PC_HEALTHXP</td>\n",
              "      <td>A</td>\n",
              "      <td>1971</td>\n",
              "      <td>15.992</td>\n",
              "      <td>NaN</td>\n",
              "    </tr>\n",
              "    <tr>\n",
              "      <th>1</th>\n",
              "      <td>AUS</td>\n",
              "      <td>PHARMAEXP</td>\n",
              "      <td>TOT</td>\n",
              "      <td>PC_HEALTHXP</td>\n",
              "      <td>A</td>\n",
              "      <td>1972</td>\n",
              "      <td>15.091</td>\n",
              "      <td>NaN</td>\n",
              "    </tr>\n",
              "    <tr>\n",
              "      <th>2</th>\n",
              "      <td>AUS</td>\n",
              "      <td>PHARMAEXP</td>\n",
              "      <td>TOT</td>\n",
              "      <td>PC_HEALTHXP</td>\n",
              "      <td>A</td>\n",
              "      <td>1973</td>\n",
              "      <td>15.117</td>\n",
              "      <td>NaN</td>\n",
              "    </tr>\n",
              "    <tr>\n",
              "      <th>3</th>\n",
              "      <td>AUS</td>\n",
              "      <td>PHARMAEXP</td>\n",
              "      <td>TOT</td>\n",
              "      <td>PC_HEALTHXP</td>\n",
              "      <td>A</td>\n",
              "      <td>1974</td>\n",
              "      <td>14.771</td>\n",
              "      <td>NaN</td>\n",
              "    </tr>\n",
              "    <tr>\n",
              "      <th>4</th>\n",
              "      <td>AUS</td>\n",
              "      <td>PHARMAEXP</td>\n",
              "      <td>TOT</td>\n",
              "      <td>PC_HEALTHXP</td>\n",
              "      <td>A</td>\n",
              "      <td>1975</td>\n",
              "      <td>11.849</td>\n",
              "      <td>NaN</td>\n",
              "    </tr>\n",
              "  </tbody>\n",
              "</table>\n",
              "</div>"
            ],
            "text/plain": [
              "  LOCATION  INDICATOR SUBJECT      MEASURE FREQUENCY  TIME   Value Flag Codes\n",
              "0      AUS  PHARMAEXP     TOT  PC_HEALTHXP         A  1971  15.992        NaN\n",
              "1      AUS  PHARMAEXP     TOT  PC_HEALTHXP         A  1972  15.091        NaN\n",
              "2      AUS  PHARMAEXP     TOT  PC_HEALTHXP         A  1973  15.117        NaN\n",
              "3      AUS  PHARMAEXP     TOT  PC_HEALTHXP         A  1974  14.771        NaN\n",
              "4      AUS  PHARMAEXP     TOT  PC_HEALTHXP         A  1975  11.849        NaN"
            ]
          },
          "metadata": {},
          "execution_count": 4
        }
      ]
    },
    {
      "cell_type": "markdown",
      "metadata": {
        "id": "yImzKNMpVpyx"
      },
      "source": [
        "The output shows the first 5 rows of our dataset."
      ]
    },
    {
      "cell_type": "code",
      "metadata": {
        "colab": {
          "base_uri": "https://localhost:8080/",
          "height": 204
        },
        "id": "alFiKAy9Vueh",
        "outputId": "3f8673f7-82f5-48c3-9281-5027453751be"
      },
      "source": [
        "df.tail()"
      ],
      "execution_count": 5,
      "outputs": [
        {
          "output_type": "execute_result",
          "data": {
            "text/html": [
              "<div>\n",
              "<style scoped>\n",
              "    .dataframe tbody tr th:only-of-type {\n",
              "        vertical-align: middle;\n",
              "    }\n",
              "\n",
              "    .dataframe tbody tr th {\n",
              "        vertical-align: top;\n",
              "    }\n",
              "\n",
              "    .dataframe thead th {\n",
              "        text-align: right;\n",
              "    }\n",
              "</style>\n",
              "<table border=\"1\" class=\"dataframe\">\n",
              "  <thead>\n",
              "    <tr style=\"text-align: right;\">\n",
              "      <th></th>\n",
              "      <th>LOCATION</th>\n",
              "      <th>INDICATOR</th>\n",
              "      <th>SUBJECT</th>\n",
              "      <th>MEASURE</th>\n",
              "      <th>FREQUENCY</th>\n",
              "      <th>TIME</th>\n",
              "      <th>Value</th>\n",
              "      <th>Flag Codes</th>\n",
              "    </tr>\n",
              "  </thead>\n",
              "  <tbody>\n",
              "    <tr>\n",
              "      <th>3791</th>\n",
              "      <td>COL</td>\n",
              "      <td>PHARMAEXP</td>\n",
              "      <td>TOT</td>\n",
              "      <td>USD_CAP</td>\n",
              "      <td>A</td>\n",
              "      <td>2013</td>\n",
              "      <td>144.302</td>\n",
              "      <td>NaN</td>\n",
              "    </tr>\n",
              "    <tr>\n",
              "      <th>3792</th>\n",
              "      <td>COL</td>\n",
              "      <td>PHARMAEXP</td>\n",
              "      <td>TOT</td>\n",
              "      <td>USD_CAP</td>\n",
              "      <td>A</td>\n",
              "      <td>2014</td>\n",
              "      <td>154.548</td>\n",
              "      <td>NaN</td>\n",
              "    </tr>\n",
              "    <tr>\n",
              "      <th>3793</th>\n",
              "      <td>COL</td>\n",
              "      <td>PHARMAEXP</td>\n",
              "      <td>TOT</td>\n",
              "      <td>USD_CAP</td>\n",
              "      <td>A</td>\n",
              "      <td>2015</td>\n",
              "      <td>159.429</td>\n",
              "      <td>NaN</td>\n",
              "    </tr>\n",
              "    <tr>\n",
              "      <th>3794</th>\n",
              "      <td>COL</td>\n",
              "      <td>PHARMAEXP</td>\n",
              "      <td>TOT</td>\n",
              "      <td>USD_CAP</td>\n",
              "      <td>A</td>\n",
              "      <td>2016</td>\n",
              "      <td>171.109</td>\n",
              "      <td>NaN</td>\n",
              "    </tr>\n",
              "    <tr>\n",
              "      <th>3795</th>\n",
              "      <td>COL</td>\n",
              "      <td>PHARMAEXP</td>\n",
              "      <td>TOT</td>\n",
              "      <td>USD_CAP</td>\n",
              "      <td>A</td>\n",
              "      <td>2017</td>\n",
              "      <td>177.532</td>\n",
              "      <td>NaN</td>\n",
              "    </tr>\n",
              "  </tbody>\n",
              "</table>\n",
              "</div>"
            ],
            "text/plain": [
              "     LOCATION  INDICATOR SUBJECT  MEASURE FREQUENCY  TIME    Value Flag Codes\n",
              "3791      COL  PHARMAEXP     TOT  USD_CAP         A  2013  144.302        NaN\n",
              "3792      COL  PHARMAEXP     TOT  USD_CAP         A  2014  154.548        NaN\n",
              "3793      COL  PHARMAEXP     TOT  USD_CAP         A  2015  159.429        NaN\n",
              "3794      COL  PHARMAEXP     TOT  USD_CAP         A  2016  171.109        NaN\n",
              "3795      COL  PHARMAEXP     TOT  USD_CAP         A  2017  177.532        NaN"
            ]
          },
          "metadata": {},
          "execution_count": 5
        }
      ]
    },
    {
      "cell_type": "markdown",
      "metadata": {
        "id": "SVpnOhyHV1oJ"
      },
      "source": [
        "The output shows the last 5 rows of our dataset."
      ]
    },
    {
      "cell_type": "code",
      "metadata": {
        "colab": {
          "base_uri": "https://localhost:8080/"
        },
        "id": "Ktk2P0Z0WARU",
        "outputId": "b4fdcce3-512d-4e17-8ff0-f2b91e1ebe98"
      },
      "source": [
        "df.shape"
      ],
      "execution_count": 6,
      "outputs": [
        {
          "output_type": "execute_result",
          "data": {
            "text/plain": [
              "(3796, 8)"
            ]
          },
          "metadata": {},
          "execution_count": 6
        }
      ]
    },
    {
      "cell_type": "markdown",
      "metadata": {
        "id": "eIoJQeyIWS68"
      },
      "source": [
        "We observe from this above line that our dataset has 3796 rows and 8 columns."
      ]
    },
    {
      "cell_type": "code",
      "metadata": {
        "colab": {
          "base_uri": "https://localhost:8080/"
        },
        "id": "ldDHqOolWaCo",
        "outputId": "fa4dc009-c7e2-4d79-ccda-75a6fa9372c9"
      },
      "source": [
        "df.columns"
      ],
      "execution_count": 7,
      "outputs": [
        {
          "output_type": "execute_result",
          "data": {
            "text/plain": [
              "Index(['LOCATION', 'INDICATOR', 'SUBJECT', 'MEASURE', 'FREQUENCY', 'TIME',\n",
              "       'Value', 'Flag Codes'],\n",
              "      dtype='object')"
            ]
          },
          "metadata": {},
          "execution_count": 7
        }
      ]
    },
    {
      "cell_type": "markdown",
      "metadata": {
        "id": "ui-MhxgWWgtp"
      },
      "source": [
        "\n",
        "The output shows the names of the columns in our dataset"
      ]
    },
    {
      "cell_type": "code",
      "metadata": {
        "colab": {
          "base_uri": "https://localhost:8080/"
        },
        "id": "4qvzNVE2WkzV",
        "outputId": "f110ebda-1448-4998-c522-5c3e5983f5d8"
      },
      "source": [
        "df.dtypes"
      ],
      "execution_count": 8,
      "outputs": [
        {
          "output_type": "execute_result",
          "data": {
            "text/plain": [
              "LOCATION       object\n",
              "INDICATOR      object\n",
              "SUBJECT        object\n",
              "MEASURE        object\n",
              "FREQUENCY      object\n",
              "TIME            int64\n",
              "Value         float64\n",
              "Flag Codes     object\n",
              "dtype: object"
            ]
          },
          "metadata": {},
          "execution_count": 8
        }
      ]
    },
    {
      "cell_type": "markdown",
      "metadata": {
        "id": "syIo8rpqWqxh"
      },
      "source": [
        "2 of the columns are numeric while the other 6 are categorical which is seen by dtpes function."
      ]
    },
    {
      "cell_type": "code",
      "metadata": {
        "colab": {
          "base_uri": "https://localhost:8080/",
          "height": 390
        },
        "id": "OGboOAwNW5Ep",
        "outputId": "c14086bd-f050-4520-d3ea-fc82ba5b87d2"
      },
      "source": [
        "df.describe(include=\"all\")"
      ],
      "execution_count": 9,
      "outputs": [
        {
          "output_type": "execute_result",
          "data": {
            "text/html": [
              "<div>\n",
              "<style scoped>\n",
              "    .dataframe tbody tr th:only-of-type {\n",
              "        vertical-align: middle;\n",
              "    }\n",
              "\n",
              "    .dataframe tbody tr th {\n",
              "        vertical-align: top;\n",
              "    }\n",
              "\n",
              "    .dataframe thead th {\n",
              "        text-align: right;\n",
              "    }\n",
              "</style>\n",
              "<table border=\"1\" class=\"dataframe\">\n",
              "  <thead>\n",
              "    <tr style=\"text-align: right;\">\n",
              "      <th></th>\n",
              "      <th>LOCATION</th>\n",
              "      <th>INDICATOR</th>\n",
              "      <th>SUBJECT</th>\n",
              "      <th>MEASURE</th>\n",
              "      <th>FREQUENCY</th>\n",
              "      <th>TIME</th>\n",
              "      <th>Value</th>\n",
              "      <th>Flag Codes</th>\n",
              "    </tr>\n",
              "  </thead>\n",
              "  <tbody>\n",
              "    <tr>\n",
              "      <th>count</th>\n",
              "      <td>3796</td>\n",
              "      <td>3796</td>\n",
              "      <td>3796</td>\n",
              "      <td>3796</td>\n",
              "      <td>3796</td>\n",
              "      <td>3796.000000</td>\n",
              "      <td>3796.00000</td>\n",
              "      <td>182</td>\n",
              "    </tr>\n",
              "    <tr>\n",
              "      <th>unique</th>\n",
              "      <td>43</td>\n",
              "      <td>1</td>\n",
              "      <td>1</td>\n",
              "      <td>3</td>\n",
              "      <td>1</td>\n",
              "      <td>NaN</td>\n",
              "      <td>NaN</td>\n",
              "      <td>3</td>\n",
              "    </tr>\n",
              "    <tr>\n",
              "      <th>top</th>\n",
              "      <td>KOR</td>\n",
              "      <td>PHARMAEXP</td>\n",
              "      <td>TOT</td>\n",
              "      <td>PC_GDP</td>\n",
              "      <td>A</td>\n",
              "      <td>NaN</td>\n",
              "      <td>NaN</td>\n",
              "      <td>B</td>\n",
              "    </tr>\n",
              "    <tr>\n",
              "      <th>freq</th>\n",
              "      <td>153</td>\n",
              "      <td>3796</td>\n",
              "      <td>3796</td>\n",
              "      <td>1281</td>\n",
              "      <td>3796</td>\n",
              "      <td>NaN</td>\n",
              "      <td>NaN</td>\n",
              "      <td>161</td>\n",
              "    </tr>\n",
              "    <tr>\n",
              "      <th>mean</th>\n",
              "      <td>NaN</td>\n",
              "      <td>NaN</td>\n",
              "      <td>NaN</td>\n",
              "      <td>NaN</td>\n",
              "      <td>NaN</td>\n",
              "      <td>1999.659378</td>\n",
              "      <td>112.14907</td>\n",
              "      <td>NaN</td>\n",
              "    </tr>\n",
              "    <tr>\n",
              "      <th>std</th>\n",
              "      <td>NaN</td>\n",
              "      <td>NaN</td>\n",
              "      <td>NaN</td>\n",
              "      <td>NaN</td>\n",
              "      <td>NaN</td>\n",
              "      <td>13.715292</td>\n",
              "      <td>193.25885</td>\n",
              "      <td>NaN</td>\n",
              "    </tr>\n",
              "    <tr>\n",
              "      <th>min</th>\n",
              "      <td>NaN</td>\n",
              "      <td>NaN</td>\n",
              "      <td>NaN</td>\n",
              "      <td>NaN</td>\n",
              "      <td>NaN</td>\n",
              "      <td>1970.000000</td>\n",
              "      <td>0.20700</td>\n",
              "      <td>NaN</td>\n",
              "    </tr>\n",
              "    <tr>\n",
              "      <th>25%</th>\n",
              "      <td>NaN</td>\n",
              "      <td>NaN</td>\n",
              "      <td>NaN</td>\n",
              "      <td>NaN</td>\n",
              "      <td>NaN</td>\n",
              "      <td>1989.000000</td>\n",
              "      <td>1.48000</td>\n",
              "      <td>NaN</td>\n",
              "    </tr>\n",
              "    <tr>\n",
              "      <th>50%</th>\n",
              "      <td>NaN</td>\n",
              "      <td>NaN</td>\n",
              "      <td>NaN</td>\n",
              "      <td>NaN</td>\n",
              "      <td>NaN</td>\n",
              "      <td>2002.000000</td>\n",
              "      <td>14.97850</td>\n",
              "      <td>NaN</td>\n",
              "    </tr>\n",
              "    <tr>\n",
              "      <th>75%</th>\n",
              "      <td>NaN</td>\n",
              "      <td>NaN</td>\n",
              "      <td>NaN</td>\n",
              "      <td>NaN</td>\n",
              "      <td>NaN</td>\n",
              "      <td>2012.000000</td>\n",
              "      <td>125.71825</td>\n",
              "      <td>NaN</td>\n",
              "    </tr>\n",
              "    <tr>\n",
              "      <th>max</th>\n",
              "      <td>NaN</td>\n",
              "      <td>NaN</td>\n",
              "      <td>NaN</td>\n",
              "      <td>NaN</td>\n",
              "      <td>NaN</td>\n",
              "      <td>2020.000000</td>\n",
              "      <td>1376.27000</td>\n",
              "      <td>NaN</td>\n",
              "    </tr>\n",
              "  </tbody>\n",
              "</table>\n",
              "</div>"
            ],
            "text/plain": [
              "       LOCATION  INDICATOR SUBJECT  ...         TIME       Value  Flag Codes\n",
              "count      3796       3796    3796  ...  3796.000000  3796.00000         182\n",
              "unique       43          1       1  ...          NaN         NaN           3\n",
              "top         KOR  PHARMAEXP     TOT  ...          NaN         NaN           B\n",
              "freq        153       3796    3796  ...          NaN         NaN         161\n",
              "mean        NaN        NaN     NaN  ...  1999.659378   112.14907         NaN\n",
              "std         NaN        NaN     NaN  ...    13.715292   193.25885         NaN\n",
              "min         NaN        NaN     NaN  ...  1970.000000     0.20700         NaN\n",
              "25%         NaN        NaN     NaN  ...  1989.000000     1.48000         NaN\n",
              "50%         NaN        NaN     NaN  ...  2002.000000    14.97850         NaN\n",
              "75%         NaN        NaN     NaN  ...  2012.000000   125.71825         NaN\n",
              "max         NaN        NaN     NaN  ...  2020.000000  1376.27000         NaN\n",
              "\n",
              "[11 rows x 8 columns]"
            ]
          },
          "metadata": {},
          "execution_count": 9
        }
      ]
    },
    {
      "cell_type": "markdown",
      "metadata": {
        "id": "5OXOW0MlW_u5"
      },
      "source": [
        "This method generates a high-level summary of the attributes over each column of the dataset. More probably, it provides the statistical insights of the dataset."
      ]
    },
    {
      "cell_type": "code",
      "metadata": {
        "colab": {
          "base_uri": "https://localhost:8080/"
        },
        "id": "p51AWmlJXDRC",
        "outputId": "8ad57715-5783-44f3-cb01-1d0ba96aea72"
      },
      "source": [
        "df.info()"
      ],
      "execution_count": 10,
      "outputs": [
        {
          "output_type": "stream",
          "name": "stdout",
          "text": [
            "<class 'pandas.core.frame.DataFrame'>\n",
            "RangeIndex: 3796 entries, 0 to 3795\n",
            "Data columns (total 8 columns):\n",
            " #   Column      Non-Null Count  Dtype  \n",
            "---  ------      --------------  -----  \n",
            " 0   LOCATION    3796 non-null   object \n",
            " 1   INDICATOR   3796 non-null   object \n",
            " 2   SUBJECT     3796 non-null   object \n",
            " 3   MEASURE     3796 non-null   object \n",
            " 4   FREQUENCY   3796 non-null   object \n",
            " 5   TIME        3796 non-null   int64  \n",
            " 6   Value       3796 non-null   float64\n",
            " 7   Flag Codes  182 non-null    object \n",
            "dtypes: float64(1), int64(1), object(6)\n",
            "memory usage: 237.4+ KB\n"
          ]
        }
      ]
    },
    {
      "cell_type": "markdown",
      "metadata": {
        "id": "3Bxp1xMaXIl6"
      },
      "source": [
        "Here is the more information of our dataset chosen. We can see that all the columns of our dataset are free from null values."
      ]
    },
    {
      "cell_type": "code",
      "metadata": {
        "colab": {
          "base_uri": "https://localhost:8080/"
        },
        "id": "g1UdgwpXXNdh",
        "outputId": "c1aa1de3-675a-4433-ddc3-768fa13fdaf8"
      },
      "source": [
        "df.duplicated().sum()"
      ],
      "execution_count": 11,
      "outputs": [
        {
          "output_type": "execute_result",
          "data": {
            "text/plain": [
              "0"
            ]
          },
          "metadata": {},
          "execution_count": 11
        }
      ]
    },
    {
      "cell_type": "markdown",
      "metadata": {
        "id": "FjLrSp6pXR_I"
      },
      "source": [
        "From this output, it is clear that we don't have any duplicates in our dataset."
      ]
    },
    {
      "cell_type": "code",
      "metadata": {
        "colab": {
          "base_uri": "https://localhost:8080/"
        },
        "id": "q_XdaxrGXVgR",
        "outputId": "5ab4dd80-332b-41da-c81b-67331433269d"
      },
      "source": [
        "df[\"MEASURE\"].value_counts()"
      ],
      "execution_count": 14,
      "outputs": [
        {
          "output_type": "execute_result",
          "data": {
            "text/plain": [
              "PC_GDP         1281\n",
              "USD_CAP        1258\n",
              "PC_HEALTHXP    1257\n",
              "Name: MEASURE, dtype: int64"
            ]
          },
          "metadata": {},
          "execution_count": 14
        }
      ]
    },
    {
      "cell_type": "markdown",
      "metadata": {
        "id": "x61i7W-7YHJh"
      },
      "source": [
        "\n",
        "Here, we observed that our dataset is not balanced to the mark as there are three different groups of which PC_GDP is the most occurring group"
      ]
    },
    {
      "cell_type": "code",
      "metadata": {
        "colab": {
          "base_uri": "https://localhost:8080/"
        },
        "id": "6sxTbAfYYacO",
        "outputId": "2b99c785-b602-44dc-c718-f7602855d26b"
      },
      "source": [
        "\n",
        "df.isnull().sum()"
      ],
      "execution_count": 15,
      "outputs": [
        {
          "output_type": "execute_result",
          "data": {
            "text/plain": [
              "LOCATION         0\n",
              "INDICATOR        0\n",
              "SUBJECT          0\n",
              "MEASURE          0\n",
              "FREQUENCY        0\n",
              "TIME             0\n",
              "Value            0\n",
              "Flag Codes    3614\n",
              "dtype: int64"
            ]
          },
          "metadata": {},
          "execution_count": 15
        }
      ]
    },
    {
      "cell_type": "markdown",
      "metadata": {
        "id": "SrYSmTpBYfxZ"
      },
      "source": [
        "Here,we get the missing values in each column present in our dataset."
      ]
    },
    {
      "cell_type": "code",
      "metadata": {
        "colab": {
          "base_uri": "https://localhost:8080/",
          "height": 204
        },
        "id": "ZffYOyQRYkWa",
        "outputId": "32ec05ad-454d-474a-f417-8f5e33952278"
      },
      "source": [
        "df.dropna(inplace=True)\n",
        "df.head()"
      ],
      "execution_count": 16,
      "outputs": [
        {
          "output_type": "execute_result",
          "data": {
            "text/html": [
              "<div>\n",
              "<style scoped>\n",
              "    .dataframe tbody tr th:only-of-type {\n",
              "        vertical-align: middle;\n",
              "    }\n",
              "\n",
              "    .dataframe tbody tr th {\n",
              "        vertical-align: top;\n",
              "    }\n",
              "\n",
              "    .dataframe thead th {\n",
              "        text-align: right;\n",
              "    }\n",
              "</style>\n",
              "<table border=\"1\" class=\"dataframe\">\n",
              "  <thead>\n",
              "    <tr style=\"text-align: right;\">\n",
              "      <th></th>\n",
              "      <th>LOCATION</th>\n",
              "      <th>INDICATOR</th>\n",
              "      <th>SUBJECT</th>\n",
              "      <th>MEASURE</th>\n",
              "      <th>FREQUENCY</th>\n",
              "      <th>TIME</th>\n",
              "      <th>Value</th>\n",
              "      <th>Flag Codes</th>\n",
              "    </tr>\n",
              "  </thead>\n",
              "  <tbody>\n",
              "    <tr>\n",
              "      <th>48</th>\n",
              "      <td>AUT</td>\n",
              "      <td>PHARMAEXP</td>\n",
              "      <td>TOT</td>\n",
              "      <td>PC_HEALTHXP</td>\n",
              "      <td>A</td>\n",
              "      <td>1990</td>\n",
              "      <td>10.131</td>\n",
              "      <td>B</td>\n",
              "    </tr>\n",
              "    <tr>\n",
              "      <th>62</th>\n",
              "      <td>AUT</td>\n",
              "      <td>PHARMAEXP</td>\n",
              "      <td>TOT</td>\n",
              "      <td>PC_HEALTHXP</td>\n",
              "      <td>A</td>\n",
              "      <td>2004</td>\n",
              "      <td>13.308</td>\n",
              "      <td>B</td>\n",
              "    </tr>\n",
              "    <tr>\n",
              "      <th>106</th>\n",
              "      <td>BEL</td>\n",
              "      <td>PHARMAEXP</td>\n",
              "      <td>TOT</td>\n",
              "      <td>PC_HEALTHXP</td>\n",
              "      <td>A</td>\n",
              "      <td>2003</td>\n",
              "      <td>17.314</td>\n",
              "      <td>B</td>\n",
              "    </tr>\n",
              "    <tr>\n",
              "      <th>128</th>\n",
              "      <td>CAN</td>\n",
              "      <td>PHARMAEXP</td>\n",
              "      <td>TOT</td>\n",
              "      <td>PC_HEALTHXP</td>\n",
              "      <td>A</td>\n",
              "      <td>1975</td>\n",
              "      <td>9.319</td>\n",
              "      <td>B</td>\n",
              "    </tr>\n",
              "    <tr>\n",
              "      <th>172</th>\n",
              "      <td>CAN</td>\n",
              "      <td>PHARMAEXP</td>\n",
              "      <td>TOT</td>\n",
              "      <td>PC_HEALTHXP</td>\n",
              "      <td>A</td>\n",
              "      <td>2019</td>\n",
              "      <td>16.085</td>\n",
              "      <td>P</td>\n",
              "    </tr>\n",
              "  </tbody>\n",
              "</table>\n",
              "</div>"
            ],
            "text/plain": [
              "    LOCATION  INDICATOR SUBJECT      MEASURE FREQUENCY  TIME   Value Flag Codes\n",
              "48       AUT  PHARMAEXP     TOT  PC_HEALTHXP         A  1990  10.131          B\n",
              "62       AUT  PHARMAEXP     TOT  PC_HEALTHXP         A  2004  13.308          B\n",
              "106      BEL  PHARMAEXP     TOT  PC_HEALTHXP         A  2003  17.314          B\n",
              "128      CAN  PHARMAEXP     TOT  PC_HEALTHXP         A  1975   9.319          B\n",
              "172      CAN  PHARMAEXP     TOT  PC_HEALTHXP         A  2019  16.085          P"
            ]
          },
          "metadata": {},
          "execution_count": 16
        }
      ]
    },
    {
      "cell_type": "markdown",
      "metadata": {
        "id": "W1AuInRdYpPy"
      },
      "source": [
        "From this,we are getting the dataset by removing all the inconsistency present in it."
      ]
    },
    {
      "cell_type": "code",
      "metadata": {
        "colab": {
          "base_uri": "https://localhost:8080/",
          "height": 359
        },
        "id": "V5PNAkt0YtlG",
        "outputId": "2d98c5b3-77d3-43f8-9d21-d712e10534d7"
      },
      "source": [
        "\n",
        "df.iloc[:10,:3]"
      ],
      "execution_count": 17,
      "outputs": [
        {
          "output_type": "execute_result",
          "data": {
            "text/html": [
              "<div>\n",
              "<style scoped>\n",
              "    .dataframe tbody tr th:only-of-type {\n",
              "        vertical-align: middle;\n",
              "    }\n",
              "\n",
              "    .dataframe tbody tr th {\n",
              "        vertical-align: top;\n",
              "    }\n",
              "\n",
              "    .dataframe thead th {\n",
              "        text-align: right;\n",
              "    }\n",
              "</style>\n",
              "<table border=\"1\" class=\"dataframe\">\n",
              "  <thead>\n",
              "    <tr style=\"text-align: right;\">\n",
              "      <th></th>\n",
              "      <th>LOCATION</th>\n",
              "      <th>INDICATOR</th>\n",
              "      <th>SUBJECT</th>\n",
              "    </tr>\n",
              "  </thead>\n",
              "  <tbody>\n",
              "    <tr>\n",
              "      <th>48</th>\n",
              "      <td>AUT</td>\n",
              "      <td>PHARMAEXP</td>\n",
              "      <td>TOT</td>\n",
              "    </tr>\n",
              "    <tr>\n",
              "      <th>62</th>\n",
              "      <td>AUT</td>\n",
              "      <td>PHARMAEXP</td>\n",
              "      <td>TOT</td>\n",
              "    </tr>\n",
              "    <tr>\n",
              "      <th>106</th>\n",
              "      <td>BEL</td>\n",
              "      <td>PHARMAEXP</td>\n",
              "      <td>TOT</td>\n",
              "    </tr>\n",
              "    <tr>\n",
              "      <th>128</th>\n",
              "      <td>CAN</td>\n",
              "      <td>PHARMAEXP</td>\n",
              "      <td>TOT</td>\n",
              "    </tr>\n",
              "    <tr>\n",
              "      <th>172</th>\n",
              "      <td>CAN</td>\n",
              "      <td>PHARMAEXP</td>\n",
              "      <td>TOT</td>\n",
              "    </tr>\n",
              "    <tr>\n",
              "      <th>183</th>\n",
              "      <td>CZE</td>\n",
              "      <td>PHARMAEXP</td>\n",
              "      <td>TOT</td>\n",
              "    </tr>\n",
              "    <tr>\n",
              "      <th>186</th>\n",
              "      <td>CZE</td>\n",
              "      <td>PHARMAEXP</td>\n",
              "      <td>TOT</td>\n",
              "    </tr>\n",
              "    <tr>\n",
              "      <th>196</th>\n",
              "      <td>CZE</td>\n",
              "      <td>PHARMAEXP</td>\n",
              "      <td>TOT</td>\n",
              "    </tr>\n",
              "    <tr>\n",
              "      <th>226</th>\n",
              "      <td>DNK</td>\n",
              "      <td>PHARMAEXP</td>\n",
              "      <td>TOT</td>\n",
              "    </tr>\n",
              "    <tr>\n",
              "      <th>233</th>\n",
              "      <td>DNK</td>\n",
              "      <td>PHARMAEXP</td>\n",
              "      <td>TOT</td>\n",
              "    </tr>\n",
              "  </tbody>\n",
              "</table>\n",
              "</div>"
            ],
            "text/plain": [
              "    LOCATION  INDICATOR SUBJECT\n",
              "48       AUT  PHARMAEXP     TOT\n",
              "62       AUT  PHARMAEXP     TOT\n",
              "106      BEL  PHARMAEXP     TOT\n",
              "128      CAN  PHARMAEXP     TOT\n",
              "172      CAN  PHARMAEXP     TOT\n",
              "183      CZE  PHARMAEXP     TOT\n",
              "186      CZE  PHARMAEXP     TOT\n",
              "196      CZE  PHARMAEXP     TOT\n",
              "226      DNK  PHARMAEXP     TOT\n",
              "233      DNK  PHARMAEXP     TOT"
            ]
          },
          "metadata": {},
          "execution_count": 17
        }
      ]
    },
    {
      "cell_type": "markdown",
      "metadata": {
        "id": "B3_Hr-7EYzmp"
      },
      "source": [
        "By using positional based indexing function iloc[:10,:3], we got the part of the dataset which is having 10 rows and 3 columns"
      ]
    },
    {
      "cell_type": "code",
      "metadata": {
        "colab": {
          "base_uri": "https://localhost:8080/",
          "height": 419
        },
        "id": "jxcwheZ3Y9gK",
        "outputId": "ce078bf8-44ff-4edd-a63f-a117e94d7b94"
      },
      "source": [
        "\n",
        "df.loc[:,[\"TIME\",\"Value\"]]"
      ],
      "execution_count": 20,
      "outputs": [
        {
          "output_type": "execute_result",
          "data": {
            "text/html": [
              "<div>\n",
              "<style scoped>\n",
              "    .dataframe tbody tr th:only-of-type {\n",
              "        vertical-align: middle;\n",
              "    }\n",
              "\n",
              "    .dataframe tbody tr th {\n",
              "        vertical-align: top;\n",
              "    }\n",
              "\n",
              "    .dataframe thead th {\n",
              "        text-align: right;\n",
              "    }\n",
              "</style>\n",
              "<table border=\"1\" class=\"dataframe\">\n",
              "  <thead>\n",
              "    <tr style=\"text-align: right;\">\n",
              "      <th></th>\n",
              "      <th>TIME</th>\n",
              "      <th>Value</th>\n",
              "    </tr>\n",
              "  </thead>\n",
              "  <tbody>\n",
              "    <tr>\n",
              "      <th>48</th>\n",
              "      <td>1990</td>\n",
              "      <td>10.131</td>\n",
              "    </tr>\n",
              "    <tr>\n",
              "      <th>62</th>\n",
              "      <td>2004</td>\n",
              "      <td>13.308</td>\n",
              "    </tr>\n",
              "    <tr>\n",
              "      <th>106</th>\n",
              "      <td>2003</td>\n",
              "      <td>17.314</td>\n",
              "    </tr>\n",
              "    <tr>\n",
              "      <th>128</th>\n",
              "      <td>1975</td>\n",
              "      <td>9.319</td>\n",
              "    </tr>\n",
              "    <tr>\n",
              "      <th>172</th>\n",
              "      <td>2019</td>\n",
              "      <td>16.085</td>\n",
              "    </tr>\n",
              "    <tr>\n",
              "      <th>...</th>\n",
              "      <td>...</td>\n",
              "      <td>...</td>\n",
              "    </tr>\n",
              "    <tr>\n",
              "      <th>3755</th>\n",
              "      <td>2018</td>\n",
              "      <td>18.391</td>\n",
              "    </tr>\n",
              "    <tr>\n",
              "      <th>3764</th>\n",
              "      <td>2018</td>\n",
              "      <td>284.699</td>\n",
              "    </tr>\n",
              "    <tr>\n",
              "      <th>3766</th>\n",
              "      <td>2014</td>\n",
              "      <td>1.574</td>\n",
              "    </tr>\n",
              "    <tr>\n",
              "      <th>3771</th>\n",
              "      <td>2014</td>\n",
              "      <td>17.320</td>\n",
              "    </tr>\n",
              "    <tr>\n",
              "      <th>3776</th>\n",
              "      <td>2014</td>\n",
              "      <td>516.201</td>\n",
              "    </tr>\n",
              "  </tbody>\n",
              "</table>\n",
              "<p>182 rows × 2 columns</p>\n",
              "</div>"
            ],
            "text/plain": [
              "      TIME    Value\n",
              "48    1990   10.131\n",
              "62    2004   13.308\n",
              "106   2003   17.314\n",
              "128   1975    9.319\n",
              "172   2019   16.085\n",
              "...    ...      ...\n",
              "3755  2018   18.391\n",
              "3764  2018  284.699\n",
              "3766  2014    1.574\n",
              "3771  2014   17.320\n",
              "3776  2014  516.201\n",
              "\n",
              "[182 rows x 2 columns]"
            ]
          },
          "metadata": {},
          "execution_count": 20
        }
      ]
    },
    {
      "cell_type": "markdown",
      "metadata": {
        "id": "jzNUDeeYZph_"
      },
      "source": [
        "\n",
        "By using label based indexing function df.loc[:,[\"TIME\",\"Value\"]], we got the dataset consisting of TIME and Value"
      ]
    },
    {
      "cell_type": "code",
      "metadata": {
        "colab": {
          "base_uri": "https://localhost:8080/"
        },
        "id": "Diu48E8kZ6vv",
        "outputId": "6acaee6b-9a0f-40e2-e5c0-2c722f92a2aa"
      },
      "source": [
        "df.groupby(\"MEASURE\")[\"TIME\"].agg(\"mean\")"
      ],
      "execution_count": 21,
      "outputs": [
        {
          "output_type": "execute_result",
          "data": {
            "text/plain": [
              "MEASURE\n",
              "PC_GDP         2005.213115\n",
              "PC_HEALTHXP    2005.213115\n",
              "USD_CAP        2005.400000\n",
              "Name: TIME, dtype: float64"
            ]
          },
          "metadata": {},
          "execution_count": 21
        }
      ]
    },
    {
      "cell_type": "markdown",
      "metadata": {
        "id": "nJg15ORbaNb0"
      },
      "source": [
        "Using groupby() function ,we've grouped the mean TIME."
      ]
    },
    {
      "cell_type": "markdown",
      "metadata": {
        "id": "ZDqeW4zNafo5"
      },
      "source": [
        "**`Visualization`**\n",
        "\n",
        "**COUNT** **PLOT**"
      ]
    },
    {
      "cell_type": "code",
      "metadata": {
        "colab": {
          "base_uri": "https://localhost:8080/",
          "height": 296
        },
        "id": "be7LO1pKaogc",
        "outputId": "8e5e47a6-3f63-4589-a943-0e1dbab8d23e"
      },
      "source": [
        "plt.title('No. of Groups')\n",
        "plot=sns.countplot(x=\"MEASURE\",data=df)"
      ],
      "execution_count": 22,
      "outputs": [
        {
          "output_type": "display_data",
          "data": {
            "image/png": "[encoded data removed]",
            "text/plain": [
              "<Figure size 432x288 with 1 Axes>"
            ]
          },
          "metadata": {
            "needs_background": "light"
          }
        }
      ]
    },
    {
      "cell_type": "markdown",
      "metadata": {
        "id": "d-ACgzSfa5f9"
      },
      "source": [
        ""
      ]
    },
    {
      "cell_type": "markdown",
      "metadata": {
        "id": "yuUsL3rva5j_"
      },
      "source": [
        "From this visualization,we can observe that our dataset is not balanced as we don't have equal number of count of the groups. We can also observe that we have more number in group B maintaining a huge differnce with the count in group"
      ]
    },
    {
      "cell_type": "markdown",
      "metadata": {
        "id": "UsAIybr6a962"
      },
      "source": [
        "**SCATTER** **PLOT**"
      ]
    },
    {
      "cell_type": "code",
      "metadata": {
        "colab": {
          "base_uri": "https://localhost:8080/",
          "height": 606
        },
        "id": "9enbrWoObESI",
        "outputId": "6973ec03-1edb-4bb0-f570-3054dbc199da"
      },
      "source": [
        "fig, axs = plt.subplots(figsize = (10,10))\n",
        "plot=sns.scatterplot(x='TIME',y='Value',hue=\"FREQUENCY\",data=df)"
      ],
      "execution_count": 23,
      "outputs": [
        {
          "output_type": "display_data",
          "data": {
            "image/png": "[encoded data removed]",
            "text/plain": [
              "<Figure size 720x720 with 1 Axes>"
            ]
          },
          "metadata": {
            "needs_background": "light"
          }
        }
      ]
    },
    {
      "cell_type": "markdown",
      "metadata": {
        "id": "CAd7tdZNbprO"
      },
      "source": [
        "Some of the countries spend good amount of time to but medicines but some did not use them properly."
      ]
    },
    {
      "cell_type": "markdown",
      "metadata": {
        "id": "PUa09Jgxb9Qj"
      },
      "source": [
        "**STRIP** **PLOT**"
      ]
    },
    {
      "cell_type": "code",
      "metadata": {
        "colab": {
          "base_uri": "https://localhost:8080/",
          "height": 388
        },
        "id": "eNL_ew0OcDn3",
        "outputId": "88bed342-59eb-4c7a-bfe4-2a22f1a9f546"
      },
      "source": [
        "fig, axs = plt.subplots(figsize = (6,6))\n",
        "plot=sns.stripplot(x=\"FREQUENCY\",y=\"TIME\",hue=\"Flag Codes\",data=df);"
      ],
      "execution_count": 25,
      "outputs": [
        {
          "output_type": "display_data",
          "data": {
            "image/png": "[encoded data removed]",
            "text/plain": [
              "<Figure size 432x432 with 1 Axes>"
            ]
          },
          "metadata": {
            "needs_background": "light"
          }
        }
      ]
    },
    {
      "cell_type": "markdown",
      "metadata": {
        "id": "PyDgGcfqczen"
      },
      "source": [
        "\n",
        "From the above visualization,we observed that the inbetween 1980 and 1990 is less and inbetween 2000 and 2020 is more."
      ]
    },
    {
      "cell_type": "code",
      "metadata": {
        "colab": {
          "base_uri": "https://localhost:8080/",
          "height": 388
        },
        "id": "SekXIVV9dexp",
        "outputId": "77ff8a4f-6eff-4024-d011-bbe0623d4311"
      },
      "source": [
        "fig, axs = plt.subplots(figsize = (8,6))\n",
        "plot=sns.boxplot(x=\"FREQUENCY\",y=\"TIME\",data=df)"
      ],
      "execution_count": 26,
      "outputs": [
        {
          "output_type": "display_data",
          "data": {
            "image/png": "[encoded data removed]",
            "text/plain": [
              "<Figure size 576x432 with 1 Axes>"
            ]
          },
          "metadata": {
            "needs_background": "light"
          }
        }
      ]
    },
    {
      "cell_type": "markdown",
      "metadata": {
        "id": "bLwSkXieduDx"
      },
      "source": [
        ""
      ]
    },
    {
      "cell_type": "markdown",
      "metadata": {
        "id": "yEYSa0_aduMD"
      },
      "source": [
        "Here,we can observe that less countries have in 1980 but in increasing time by 2020 countries has increased."
      ]
    },
    {
      "cell_type": "markdown",
      "metadata": {
        "id": "wwKKjtbleApz"
      },
      "source": [
        "**Correlation** **Between** **Variables**"
      ]
    },
    {
      "cell_type": "code",
      "metadata": {
        "colab": {
          "base_uri": "https://localhost:8080/",
          "height": 111
        },
        "id": "d1aJuuV3eFDI",
        "outputId": "34f29da9-2145-42e5-c3ec-8478ca77472e"
      },
      "source": [
        "df.corr()"
      ],
      "execution_count": 27,
      "outputs": [
        {
          "output_type": "execute_result",
          "data": {
            "text/html": [
              "<div>\n",
              "<style scoped>\n",
              "    .dataframe tbody tr th:only-of-type {\n",
              "        vertical-align: middle;\n",
              "    }\n",
              "\n",
              "    .dataframe tbody tr th {\n",
              "        vertical-align: top;\n",
              "    }\n",
              "\n",
              "    .dataframe thead th {\n",
              "        text-align: right;\n",
              "    }\n",
              "</style>\n",
              "<table border=\"1\" class=\"dataframe\">\n",
              "  <thead>\n",
              "    <tr style=\"text-align: right;\">\n",
              "      <th></th>\n",
              "      <th>TIME</th>\n",
              "      <th>Value</th>\n",
              "    </tr>\n",
              "  </thead>\n",
              "  <tbody>\n",
              "    <tr>\n",
              "      <th>TIME</th>\n",
              "      <td>1.000000</td>\n",
              "      <td>0.204428</td>\n",
              "    </tr>\n",
              "    <tr>\n",
              "      <th>Value</th>\n",
              "      <td>0.204428</td>\n",
              "      <td>1.000000</td>\n",
              "    </tr>\n",
              "  </tbody>\n",
              "</table>\n",
              "</div>"
            ],
            "text/plain": [
              "           TIME     Value\n",
              "TIME   1.000000  0.204428\n",
              "Value  0.204428  1.000000"
            ]
          },
          "metadata": {},
          "execution_count": 27
        }
      ]
    },
    {
      "cell_type": "markdown",
      "metadata": {
        "id": "qfI0TXM-eIbe"
      },
      "source": [
        "Further, we can visualise this correlation using a heatmap."
      ]
    },
    {
      "cell_type": "markdown",
      "metadata": {
        "id": "G3766MbZeLuE"
      },
      "source": [
        "**Heat** **Map**"
      ]
    },
    {
      "cell_type": "code",
      "metadata": {
        "colab": {
          "base_uri": "https://localhost:8080/",
          "height": 541
        },
        "id": "8-uZCZOqeRT9",
        "outputId": "cf606c63-cb88-4912-b3b4-c8fdc9b2ef56"
      },
      "source": [
        "fig = plt.figure(figsize = (15,9))\n",
        "sns.heatmap(df.corr(), cmap='Reds', annot = True);"
      ],
      "execution_count": 28,
      "outputs": [
        {
          "output_type": "display_data",
          "data": {
            "image/png": "[encoded data removed]",
            "text/plain": [
              "<Figure size 1080x648 with 2 Axes>"
            ]
          },
          "metadata": {
            "needs_background": "light"
          }
        }
      ]
    },
    {
      "cell_type": "markdown",
      "metadata": {
        "id": "LzEV620OeVaJ"
      },
      "source": [
        "**HIST** **PLOT**"
      ]
    },
    {
      "cell_type": "code",
      "metadata": {
        "colab": {
          "base_uri": "https://localhost:8080/",
          "height": 390
        },
        "id": "mjK69Ce3eZp3",
        "outputId": "cb36eb76-3c54-44b4-a90f-f7cbe85ef804"
      },
      "source": [
        "df.hist(edgecolor='black',bins = 25, figsize= (12,6))\n",
        "plt.show()"
      ],
      "execution_count": 29,
      "outputs": [
        {
          "output_type": "display_data",
          "data": {
            "image/png": "[encoded data removed]",
            "text/plain": [
              "<Figure size 864x432 with 2 Axes>"
            ]
          },
          "metadata": {
            "needs_background": "light"
          }
        }
      ]
    },
    {
      "cell_type": "markdown",
      "metadata": {
        "id": "oALlfzTxefHU"
      },
      "source": [
        "Here,we can visualize the distribution of value of our dataset."
      ]
    },
    {
      "cell_type": "markdown",
      "metadata": {
        "id": "_YPWfFVqelmx"
      },
      "source": [
        "**PAIR** **PLOT**"
      ]
    },
    {
      "cell_type": "code",
      "metadata": {
        "colab": {
          "base_uri": "https://localhost:8080/",
          "height": 515
        },
        "id": "thEfpXTtepRX",
        "outputId": "699fb8d7-9a3b-4ddb-b4c0-1f0a622b8429"
      },
      "source": [
        "sns.pairplot(data = df,hue=\"Flag Codes\", height=3)"
      ],
      "execution_count": 30,
      "outputs": [
        {
          "output_type": "stream",
          "name": "stderr",
          "text": [
            "/usr/local/lib/python3.7/dist-packages/seaborn/distributions.py:306: UserWarning: Dataset has 0 variance; skipping density estimate.\n",
            "  warnings.warn(msg, UserWarning)\n"
          ]
        },
        {
          "output_type": "execute_result",
          "data": {
            "text/plain": [
              "<seaborn.axisgrid.PairGrid at 0x7f38add63050>"
            ]
          },
          "metadata": {},
          "execution_count": 30
        },
        {
          "output_type": "display_data",
          "data": {
            "image/png": "[encoded data removed]",
            "text/plain": [
              "<Figure size 494.875x432 with 6 Axes>"
            ]
          },
          "metadata": {
            "needs_background": "light"
          }
        }
      ]
    },
    {
      "cell_type": "markdown",
      "metadata": {
        "id": "zfvQPYxFeyz0"
      },
      "source": [
        "pairplot is showing the bivariate relation between each pair of features. From the pairplot, we'll see that the Gento species is separataed from the other two across all feature combinations"
      ]
    },
    {
      "cell_type": "markdown",
      "metadata": {
        "id": "E4I91keLe2ug"
      },
      "source": [
        "**JOINT** **PLOT**"
      ]
    },
    {
      "cell_type": "code",
      "metadata": {
        "colab": {
          "base_uri": "https://localhost:8080/",
          "height": 369
        },
        "id": "9sIOHwdhe7ic",
        "outputId": "4a6e46c7-9633-48aa-f4c9-2a24b0f4db8e"
      },
      "source": [
        "sns.jointplot(x=\"TIME\", y=\"Value\", data=df,height=5)\n",
        "plt.show()"
      ],
      "execution_count": 31,
      "outputs": [
        {
          "output_type": "display_data",
          "data": {
            "image/png": "[encoded data removed]",
            "text/plain": [
              "<Figure size 360x360 with 3 Axes>"
            ]
          },
          "metadata": {
            "needs_background": "light"
          }
        }
      ]
    },
    {
      "cell_type": "markdown",
      "metadata": {
        "id": "7VHvKGRXfOAx"
      },
      "source": [
        "We can also use the seaborn library to make a similar plot. A seaborn jointplot shows bivariate scatterplots and univariate histograms in the same figure."
      ]
    },
    {
      "cell_type": "markdown",
      "metadata": {
        "id": "nFAoHcghfRcS"
      },
      "source": [
        "**DIST** **PLOT**"
      ]
    },
    {
      "cell_type": "code",
      "metadata": {
        "colab": {
          "base_uri": "https://localhost:8080/",
          "height": 350
        },
        "id": "CF1YTmY5fUxp",
        "outputId": "87288b22-1c61-4a5d-ca27-e8440f5d5f13"
      },
      "source": [
        "sns.distplot(df['Value'],bins=5)"
      ],
      "execution_count": 32,
      "outputs": [
        {
          "output_type": "stream",
          "name": "stderr",
          "text": [
            "/usr/local/lib/python3.7/dist-packages/seaborn/distributions.py:2557: FutureWarning: `distplot` is a deprecated function and will be removed in a future version. Please adapt your code to use either `displot` (a figure-level function with similar flexibility) or `histplot` (an axes-level function for histograms).\n",
            "  warnings.warn(msg, FutureWarning)\n"
          ]
        },
        {
          "output_type": "execute_result",
          "data": {
            "text/plain": [
              "<matplotlib.axes._subplots.AxesSubplot at 0x7f38aba0b150>"
            ]
          },
          "metadata": {},
          "execution_count": 32
        },
        {
          "output_type": "display_data",
          "data": {
            "image/png": "[encoded data removed]",
            "text/plain": [
              "<Figure size 432x288 with 1 Axes>"
            ]
          },
          "metadata": {
            "needs_background": "light"
          }
        }
      ]
    },
    {
      "cell_type": "markdown",
      "metadata": {
        "id": "4hUYZZBqffir"
      },
      "source": [
        "From the above Dist plot, we can easily observe that value is more between 0 and 200 for the increase in density."
      ]
    },
    {
      "cell_type": "markdown",
      "metadata": {
        "id": "jv0PfNdNgDNx"
      },
      "source": [
        "**CONCLUSION**\n",
        "\n",
        "The dataset is balanced i.e.almost equal records are present for all countries.\n",
        "we have totally 8 columns in which 2 of the columns are numeric while the other 6 are categorical.\n",
        "\n",
        "A strong correlation is present between TIME and and Value."
      ]
    }
  ]
}