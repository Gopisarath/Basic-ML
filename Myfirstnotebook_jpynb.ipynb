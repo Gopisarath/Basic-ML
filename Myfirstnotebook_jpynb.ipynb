{
  "nbformat": 4,
  "nbformat_minor": 0,
  "metadata": {
    "colab": {
      "name": "Myfirstnotebook.jpynb",
      "provenance": [],
      "authorship_tag": "ABX9TyO6MAUXZgzJoDoUvNutTKbq",
      "include_colab_link": true
    },
    "kernelspec": {
      "name": "python3",
      "display_name": "Python 3"
    },
    "language_info": {
      "name": "python"
    }
  },
  "cells": [
    {
      "cell_type": "markdown",
      "metadata": {
        "id": "view-in-github",
        "colab_type": "text"
      },
      "source": [
        "<a href=\"https://colab.research.google.com/github/Gopisarath/Basic-ML/blob/main/Myfirstnotebook_jpynb.ipynb\" target=\"_parent\"><img src=\"https://colab.research.google.com/assets/colab-badge.svg\" alt=\"Open In Colab\"/></a>"
      ]
    },
    {
      "cell_type": "markdown",
      "metadata": {
        "id": "OIZXElKV601N"
      },
      "source": [
        "**Python program for finding factorial**"
      ]
    },
    {
      "cell_type": "code",
      "metadata": {
        "colab": {
          "base_uri": "https://localhost:8080/"
        },
        "id": "BD6UwkCc5qtf",
        "outputId": "7d4a7420-d5de-4b7a-b7d2-26c9071b34da"
      },
      "source": [
        "n = int(input(\"Enter a num: \"))\n",
        "factorial = 1\n",
        "if n<0:\n",
        "  print(\"Factorial does not exist for negative numbers\")\n",
        "elif n == 0:\n",
        "  print(\"The factorial of 0 is 1\")\n",
        "else:\n",
        "  for i in range(1,n+1):\n",
        "    factorial = factorial*i\n",
        "  print(\"The factorial of\",n,\"is\",factorial)\n",
        "\n"
      ],
      "execution_count": 1,
      "outputs": [
        {
          "output_type": "stream",
          "text": [
            "Enter a num: 5\n",
            "The factorial of 5 is 120\n"
          ],
          "name": "stdout"
        }
      ]
    },
    {
      "cell_type": "markdown",
      "metadata": {
        "id": "1MF2NJ0V80CG"
      },
      "source": [
        "Here we can find the factorial of any given number with help of python.when the user gives input the above program executes and give the calculated answer that is factorial.If the number is negative,zero or positive using if-elif-else statements.And if the number is positive range() function is used to calculate for the required output."
      ]
    },
    {
      "cell_type": "markdown",
      "metadata": {
        "id": "JVYYA49298WE"
      },
      "source": [
        "**Python program for finding sum of N natural numbers:**"
      ]
    },
    {
      "cell_type": "code",
      "metadata": {
        "colab": {
          "base_uri": "https://localhost:8080/"
        },
        "id": "-onydeHz-I3f",
        "outputId": "596994fd-2fec-450c-d896-930cd57b2818"
      },
      "source": [
        "n = int(input())\n",
        "sum = 0\n",
        "if n<=0:\n",
        "  print(\"Enter a positive number\")\n",
        "else:\n",
        "  while n>0:\n",
        "    sum = sum + n\n",
        "    n = n - 1\n",
        "  print(\"the sum is\",sum)\n",
        "\n"
      ],
      "execution_count": 4,
      "outputs": [
        {
          "output_type": "stream",
          "text": [
            "5\n",
            "the sum is 15\n"
          ],
          "name": "stdout"
        }
      ]
    },
    {
      "cell_type": "markdown",
      "metadata": {
        "id": "GnIf3GShAT5D"
      },
      "source": [
        "Here we can find the sum of first N natural numbers.For different values keep changing the values of n.Initially the sum is equal to zero and number is stored in value n.Then we used while loop to find the required output."
      ]
    },
    {
      "cell_type": "markdown",
      "metadata": {
        "id": "OoqLNWsWBJMP"
      },
      "source": [
        "**Python program for finding a number is palindrome or not:**"
      ]
    },
    {
      "cell_type": "code",
      "metadata": {
        "colab": {
          "base_uri": "https://localhost:8080/"
        },
        "id": "q9s1uAEzBhe5",
        "outputId": "66e3c981-9443-494d-f5ad-14b6fdcfb4d9"
      },
      "source": [
        "string = input(\"Please enter any string: \")\n",
        "if(string == string[::-1]):\n",
        "  print(\"This is a palindrome string\")\n",
        "else:\n",
        "  print(\"This is not a palindrome string\")"
      ],
      "execution_count": 5,
      "outputs": [
        {
          "output_type": "stream",
          "text": [
            "Please enter any string: wow\n",
            "This is a palindrome string\n"
          ],
          "name": "stdout"
        }
      ]
    },
    {
      "cell_type": "markdown",
      "metadata": {
        "id": "aGoI2jfFCpPn"
      },
      "source": [
        "When we reverse the given string if this is same as the given number then this is palindrome and viceversa.When we read the string as input  using if-else statement we can easily find the requried output. "
      ]
    }
  ]
}